{
 "cells": [
  {
   "cell_type": "markdown",
   "id": "ff5b9d65",
   "metadata": {},
   "source": [
    "# Set Data Type"
   ]
  },
  {
   "cell_type": "raw",
   "id": "671c1bba",
   "metadata": {},
   "source": [
    "A set is an unordered coollection\n",
    "set has unique items\n",
    "set is mutable\n",
    "represented using {}"
   ]
  },
  {
   "cell_type": "markdown",
   "id": "a50350af",
   "metadata": {},
   "source": [
    "Set Functions"
   ]
  },
  {
   "cell_type": "code",
   "execution_count": 1,
   "id": "3be106ce",
   "metadata": {},
   "outputs": [
    {
     "name": "stdout",
     "output_type": "stream",
     "text": [
      "Set after updating: {'a', 'd', 'f', 'c', 'b'}\n"
     ]
    }
   ],
   "source": [
    "# set of letters\n",
    "s = {'a', 'b', 'c', 'd'}\n",
    "\n",
    "# adding 's'\n",
    "s.add('f')\n",
    "print('Set after updating:', s)\n",
    "\n"
   ]
  },
  {
   "cell_type": "code",
   "execution_count": 2,
   "id": "61f0d053",
   "metadata": {},
   "outputs": [
    {
     "name": "stdout",
     "output_type": "stream",
     "text": [
      "{'n', 'y', 'o', 'p', ('f', 'o'), 'a', 'e', 't', 'h'}\n"
     ]
    }
   ],
   "source": [
    "# Python code to demonstrate addition of tuple to a set.\n",
    "s = {'p', 'y', 't', 'h', 'o','n'}\n",
    "t = ('f', 'o')\n",
    "l = ['a', 'e']\n",
    "\n",
    "# adding tuple t to set s.\n",
    "s.add(t)\n",
    "\n",
    "# adding list l to set s.\n",
    "s.update(l)\n",
    "\n",
    "print(s)\n"
   ]
  },
  {
   "cell_type": "code",
   "execution_count": 3,
   "id": "c8cb99ae",
   "metadata": {},
   "outputs": [
    {
     "name": "stdout",
     "output_type": "stream",
     "text": [
      "\n",
      "Set after updating: {'n', 'y', 'o', 'p', ('f', 'o'), 'a', 'e', 't', 'h'}\n"
     ]
    }
   ],
   "source": [
    "# Discarding element from the set\n",
    "s.discard('g')\n",
    "print('\\nSet after updating:', s)\n"
   ]
  },
  {
   "cell_type": "code",
   "execution_count": 4,
   "id": "4153ccb9",
   "metadata": {},
   "outputs": [
    {
     "name": "stdout",
     "output_type": "stream",
     "text": [
      "\n",
      "Set after updating: {'n', 'y', 'o', 'p', ('f', 'o'), 'a', 't', 'h'}\n"
     ]
    }
   ],
   "source": [
    "# Removing element from the set\n",
    "s.remove('e')\n",
    "print('\\nSet after updating:', s)\n"
   ]
  },
  {
   "cell_type": "code",
   "execution_count": 5,
   "id": "75419b83",
   "metadata": {},
   "outputs": [
    {
     "name": "stdout",
     "output_type": "stream",
     "text": [
      "\n",
      "Popped element n\n",
      "Set after updating: {'y', 'o', 'p', ('f', 'o'), 'a', 't', 'h'}\n"
     ]
    }
   ],
   "source": [
    "# Popping elements from the set\n",
    "print('\\nPopped element', s.pop())\n",
    "print('Set after updating:', s)\n"
   ]
  },
  {
   "cell_type": "code",
   "execution_count": 6,
   "id": "f52b4ac3",
   "metadata": {},
   "outputs": [
    {
     "name": "stdout",
     "output_type": "stream",
     "text": [
      "\n",
      "Set after updating: set()\n"
     ]
    }
   ],
   "source": [
    "s.clear()\n",
    "print('\\nSet after updating:', s)\n"
   ]
  },
  {
   "cell_type": "code",
   "execution_count": 7,
   "id": "a95c024f",
   "metadata": {},
   "outputs": [
    {
     "name": "stdout",
     "output_type": "stream",
     "text": [
      "{1, 2, 3, 4}\n"
     ]
    }
   ],
   "source": [
    "# Python3 program to demonstrate the use\n",
    "# of join() function\n",
    "\n",
    "set1 = {1, 2, 3, 4}\n",
    "\n",
    "# function to copy the set\n",
    "set2 = set1.copy()\n",
    "\n",
    "# prints the copied set\n",
    "print(set2)\n"
   ]
  },
  {
   "cell_type": "code",
   "execution_count": 8,
   "id": "ea09aa6e",
   "metadata": {},
   "outputs": [
    {
     "name": "stdout",
     "output_type": "stream",
     "text": [
      "{10, 20}\n",
      "{100, 60}\n"
     ]
    }
   ],
   "source": [
    "# Python code to get the difference between two sets\n",
    "# using difference() between set A and set B\n",
    "\n",
    "# Driver Code\n",
    "A = {10, 20, 30, 40, 80}\n",
    "B = {100, 30, 80, 40, 60}\n",
    "print (A.difference(B))\n",
    "print (B.difference(A))\n"
   ]
  },
  {
   "cell_type": "code",
   "execution_count": 9,
   "id": "9b285fd9",
   "metadata": {},
   "outputs": [
    {
     "name": "stdout",
     "output_type": "stream",
     "text": [
      "{20, 10}\n"
     ]
    }
   ],
   "source": [
    "# Python code to get the difference between two sets\n",
    "# using difference_update() between set A and set B\n",
    " \n",
    "# Driver Code\n",
    "A = {10, 20, 30, 40, 80}\n",
    "B = {100, 30, 80, 40, 60}\n",
    " \n",
    "# Modifies A and returns None\n",
    "A.difference_update(B)\n",
    " \n",
    "# Prints the modified set\n",
    "print (A)"
   ]
  },
  {
   "cell_type": "code",
   "execution_count": 10,
   "id": "5db59db4",
   "metadata": {},
   "outputs": [
    {
     "name": "stdout",
     "output_type": "stream",
     "text": [
      "frozenset Object is :  frozenset({'c++', 'python', 'java'})\n"
     ]
    }
   ],
   "source": [
    "l = [\"python\", \"java\", \"c++\"]\n",
    "  \n",
    "# converting list to frozenset\n",
    "fnum = frozenset(l)\n",
    "  \n",
    "# printing empty frozenset object\n",
    "print(\"frozenset Object is : \", fnum)"
   ]
  },
  {
   "cell_type": "code",
   "execution_count": 11,
   "id": "29ce0983",
   "metadata": {},
   "outputs": [
    {
     "name": "stdout",
     "output_type": "stream",
     "text": [
      "set1 intersection set2 :  {4, 6}\n",
      "set1 intersection set2 intersection set3 : {4, 6}\n"
     ]
    }
   ],
   "source": [
    "# Python3 program for intersection() function\n",
    "set1 = {2, 4, 5, 6}\n",
    "set2 = {4, 6, 7, 8}\n",
    "set3 = {4, 6, 8}\n",
    " \n",
    "# intersection of two sets\n",
    "print(\"set1 intersection set2 : \",\n",
    "      set1.intersection(set2))\n",
    " \n",
    "# intersection of three sets\n",
    "print(\"set1 intersection set2 intersection set3 :\",\n",
    "      set1.intersection(set2, set3))"
   ]
  },
  {
   "cell_type": "code",
   "execution_count": 12,
   "id": "e415fd8d",
   "metadata": {},
   "outputs": [
    {
     "name": "stdout",
     "output_type": "stream",
     "text": [
      "{2, 5, 7, 8}\n",
      "{0, 1, 2, 4, 5, 6, 12}\n",
      "{0, 1, 4, 6, 7, 8, 12}\n"
     ]
    }
   ],
   "source": [
    "# Python3 program for intersection() function\n",
    "set1 = {2, 4, 5, 6}\n",
    "set2 = {4, 6, 7, 8}\n",
    "set3 = {1, 0, 12}\n",
    " \n",
    "print(set1.symmetric_difference(set2))\n",
    "print(set1.symmetric_difference(set3))\n",
    "print(set2.symmetric_difference(set3))"
   ]
  },
  {
   "cell_type": "code",
   "execution_count": 15,
   "id": "b2f0a7f8",
   "metadata": {},
   "outputs": [
    {
     "name": "stdout",
     "output_type": "stream",
     "text": [
      "{1, 4}\n",
      "{2, 5}\n"
     ]
    }
   ],
   "source": [
    "# Python program to demonstrate the use of \n",
    "# of symmetric_difference() method \n",
    "  \n",
    "  \n",
    "list1 = [1, 2, 3] \n",
    "list2 = [2, 3, 4] \n",
    "list3 = [3, 4, 5] \n",
    "  \n",
    "# Convert list to sets\n",
    "set1 = set(list1) \n",
    "set2 = set(list2) \n",
    "  \n",
    "# Prints the symmetric difference when  \n",
    "# set is passed as a parameter \n",
    "print(set1.symmetric_difference(set2)) \n",
    "  \n",
    "# Prints the symmetric difference when list is \n",
    "# passed as a parameter by converting it to a set\n",
    "print(set2.symmetric_difference(list3))\n"
   ]
  },
  {
   "cell_type": "code",
   "execution_count": 14,
   "id": "93b50a20",
   "metadata": {},
   "outputs": [
    {
     "name": "stdout",
     "output_type": "stream",
     "text": [
      "A =  {'p', 'e', 'r', 'w', 'o'}\n",
      "B =  {'a', 'n', 'r', 'e', 'o'}\n",
      "result =  None\n"
     ]
    }
   ],
   "source": [
    "# Python code to demonstrate working of\n",
    "# symmetric_difference_update()\n",
    " \n",
    "A = {'p', 'a', 'w', 'a', 'n'}\n",
    "B = {'r', 'a', 'o', 'n', 'e'}\n",
    " \n",
    "# result is always none.\n",
    "result = A.symmetric_difference_update(B)\n",
    " \n",
    "print('A = ', A)\n",
    "print('B = ', B)\n",
    "print('result = ', result)"
   ]
  },
  {
   "cell_type": "code",
   "execution_count": null,
   "id": "da375853",
   "metadata": {},
   "outputs": [],
   "source": []
  },
  {
   "cell_type": "code",
   "execution_count": null,
   "id": "d4c54bc0",
   "metadata": {},
   "outputs": [],
   "source": []
  },
  {
   "cell_type": "markdown",
   "id": "daae683f",
   "metadata": {},
   "source": [
    "# Tuple Data Type"
   ]
  },
  {
   "cell_type": "raw",
   "id": "a6b6553b",
   "metadata": {},
   "source": [
    "A tuple is an immutable data type in python.\n",
    "tuple contains a group of elements it is similar to list.\n",
    "Once defined a tuple elements cant be altered \n",
    "or manipulated.\n",
    "allows duplicate numbers, tuple is ordered."
   ]
  },
  {
   "cell_type": "markdown",
   "id": "2cd91ade",
   "metadata": {},
   "source": [
    "Tuple Functions"
   ]
  },
  {
   "cell_type": "code",
   "execution_count": 4,
   "id": "86e8bd38",
   "metadata": {},
   "outputs": [
    {
     "name": "stdout",
     "output_type": "stream",
     "text": [
      "Count of 3 in Tuple1 is: 3\n",
      "Count of Python in Tuple2 is: 3\n"
     ]
    }
   ],
   "source": [
    "# Creating tuples\n",
    "Tuple1 = (0, 1, 2, 3, 2, 3, 1, 3, 2)\n",
    "Tuple2 = ('python', 'geek', 'python','for', 'java', 'python')\n",
    "\n",
    "# count the appearance of 3\n",
    "total_count = Tuple1.count(3)\n",
    "print('Count of 3 in Tuple1 is:', total_count)\n",
    "\n",
    "# count the appearance of python\n",
    "total_count = Tuple2.count('python')\n",
    "print('Count of Python in Tuple2 is:', total_count)\n"
   ]
  },
  {
   "cell_type": "code",
   "execution_count": 5,
   "id": "2bcb83d6",
   "metadata": {},
   "outputs": [
    {
     "name": "stdout",
     "output_type": "stream",
     "text": [
      "Count of (2, 3) in Tuple is: 2\n",
      "Count of [3, 2] in Tuple is: 1\n"
     ]
    }
   ],
   "source": [
    "# Creating tuples\n",
    "Tuple = (0, 1, (2, 3), (2, 3), 1, [3, 2], 'geeks', (0,))\n",
    "\n",
    "# count the appearance of (2, 3)\n",
    "total_count = Tuple.count((2, 3))\n",
    "print('Count of (2, 3) in Tuple is:',total_count )\n",
    "\n",
    "# count the appearance of [3, 2]\n",
    "total_count = Tuple.count([3, 2])\n",
    "print('Count of [3, 2] in Tuple is:', total_count)\n"
   ]
  },
  {
   "cell_type": "code",
   "execution_count": 7,
   "id": "0fae6341",
   "metadata": {},
   "outputs": [
    {
     "name": "stdout",
     "output_type": "stream",
     "text": [
      "First occurrence of 3 is 3\n",
      "First occurrence of 3 after 4th index is: 5\n"
     ]
    }
   ],
   "source": [
    "# Creating tuples\n",
    "Tuple = (0, 1, 2, 3, 2, 3, 1, 3, 2)\n",
    "\n",
    "# getting the index of 3\n",
    "index = Tuple.index(3)\n",
    "print('First occurrence of 3 is', index)\n",
    "\n",
    "# getting the index of 3 after 4th\n",
    "# index\n",
    "index = Tuple.index(3, 4)\n",
    "print('First occurrence of 3 after 4th index is:', index)\n"
   ]
  },
  {
   "cell_type": "code",
   "execution_count": null,
   "id": "10565920",
   "metadata": {},
   "outputs": [],
   "source": []
  },
  {
   "cell_type": "code",
   "execution_count": null,
   "id": "884447af",
   "metadata": {},
   "outputs": [],
   "source": []
  }
 ],
 "metadata": {
  "kernelspec": {
   "display_name": "Python 3 (ipykernel)",
   "language": "python",
   "name": "python3"
  },
  "language_info": {
   "codemirror_mode": {
    "name": "ipython",
    "version": 3
   },
   "file_extension": ".py",
   "mimetype": "text/x-python",
   "name": "python",
   "nbconvert_exporter": "python",
   "pygments_lexer": "ipython3",
   "version": "3.9.13"
  }
 },
 "nbformat": 4,
 "nbformat_minor": 5
}
