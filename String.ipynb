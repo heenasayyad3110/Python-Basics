{
 "cells": [
  {
   "cell_type": "markdown",
   "id": "b2d62a17",
   "metadata": {},
   "source": [
    "  # String Data type"
   ]
  },
  {
   "cell_type": "raw",
   "id": "35a2cbac",
   "metadata": {},
   "source": [
    "String is a data type in python\n",
    "string is a sequence of characters enclosed in qoutes.\n",
    "String represents group of characters strings are enclosed in double quotes or single qoutes\n",
    "ex- 'hello',\"python\",''''''java'''\n"
   ]
  },
  {
   "cell_type": "code",
   "execution_count": null,
   "id": "3bb33202",
   "metadata": {},
   "outputs": [],
   "source": [
    "#String slicing\n",
    "A string in python can be sliced for getting a \n",
    "part of the string\n",
    "Consider the following string:\n",
    "     0  1  2  3  5  6\n",
    "     P  Y  T  H  O  N   => LENGTH = 5\n",
    "    -6 -5 -4 -3 -2 -1\n",
    "    \n",
    "The index in a string starts from 0 to (lenght -1) in \n",
    "python. In order to slice a string, we use the \n",
    "following syntax:\n",
    "    \n",
    "    sl = name[ind_start:ind_end]\n",
    "    \n",
    "    sl[0:3] returns \"pyt\" \n",
    "    sl[1:3] returns \"yt\"\n",
    "    \n",
    "Negative indices : Negative indices can also be used as\n",
    "    shown in the figure above. \n",
    "    \n",
    "Slicing with skip value\n",
    "we can provide a skip value as a part of our slice like \n",
    "this:\n",
    "    \n",
    "    word = \"amazing\"\n",
    "    word[1:6:2] -> 'mzn'\n",
    "    \n",
    "Other advanced slicing techniques\n",
    "    word[:7]-> word[0:7]  -> 'amazing'"
   ]
  },
  {
   "cell_type": "markdown",
   "id": "50a37e7c",
   "metadata": {},
   "source": [
    "# String Functions"
   ]
  },
  {
   "cell_type": "code",
   "execution_count": 1,
   "id": "8a402782",
   "metadata": {},
   "outputs": [
    {
     "data": {
      "text/plain": [
       "'python is easy'"
      ]
     },
     "execution_count": 1,
     "metadata": {},
     "output_type": "execute_result"
    }
   ],
   "source": [
    "s = \"python is easy\"\n",
    "s"
   ]
  },
  {
   "cell_type": "code",
   "execution_count": 2,
   "id": "a70962ae",
   "metadata": {},
   "outputs": [
    {
     "data": {
      "text/plain": [
       "14"
      ]
     },
     "execution_count": 2,
     "metadata": {},
     "output_type": "execute_result"
    }
   ],
   "source": [
    "len(s)"
   ]
  },
  {
   "cell_type": "code",
   "execution_count": 4,
   "id": "ee8a8d07",
   "metadata": {},
   "outputs": [
    {
     "data": {
      "text/plain": [
       "'h'"
      ]
     },
     "execution_count": 4,
     "metadata": {},
     "output_type": "execute_result"
    }
   ],
   "source": [
    "s[3]"
   ]
  },
  {
   "cell_type": "code",
   "execution_count": 9,
   "id": "c716419e",
   "metadata": {},
   "outputs": [
    {
     "data": {
      "text/plain": [
       "'   pythonsjavascsc++s    '"
      ]
     },
     "execution_count": 9,
     "metadata": {},
     "output_type": "execute_result"
    }
   ],
   "source": [
    "s = \"   pythonsjavascsc++s    \"\n",
    "s"
   ]
  },
  {
   "cell_type": "code",
   "execution_count": 10,
   "id": "e4b325db",
   "metadata": {},
   "outputs": [
    {
     "data": {
      "text/plain": [
       "['   pythonsjavas', 's', '++s    ']"
      ]
     },
     "execution_count": 10,
     "metadata": {},
     "output_type": "execute_result"
    }
   ],
   "source": [
    "s.split(\"c\")"
   ]
  },
  {
   "cell_type": "code",
   "execution_count": 11,
   "id": "029d0757",
   "metadata": {},
   "outputs": [
    {
     "data": {
      "text/plain": [
       "'   pythonsjavascsc++s'"
      ]
     },
     "execution_count": 11,
     "metadata": {},
     "output_type": "execute_result"
    }
   ],
   "source": [
    "s.rstrip()"
   ]
  },
  {
   "cell_type": "code",
   "execution_count": 12,
   "id": "1f94da3d",
   "metadata": {},
   "outputs": [
    {
     "data": {
      "text/plain": [
       "'pythonsjavascsc++s    '"
      ]
     },
     "execution_count": 12,
     "metadata": {},
     "output_type": "execute_result"
    }
   ],
   "source": [
    "s.lstrip()"
   ]
  },
  {
   "cell_type": "code",
   "execution_count": 13,
   "id": "8dbfa2a3",
   "metadata": {},
   "outputs": [
    {
     "data": {
      "text/plain": [
       "'pythonsjavascsc++s'"
      ]
     },
     "execution_count": 13,
     "metadata": {},
     "output_type": "execute_result"
    }
   ],
   "source": [
    "s.strip()"
   ]
  },
  {
   "cell_type": "code",
   "execution_count": 15,
   "id": "06b66067",
   "metadata": {},
   "outputs": [
    {
     "data": {
      "text/plain": [
       "False"
      ]
     },
     "execution_count": 15,
     "metadata": {},
     "output_type": "execute_result"
    }
   ],
   "source": [
    "\"w\" in s"
   ]
  },
  {
   "cell_type": "code",
   "execution_count": 24,
   "id": "ea0ad845",
   "metadata": {},
   "outputs": [],
   "source": [
    "a = \"everythingeverytime everyone\""
   ]
  },
  {
   "cell_type": "code",
   "execution_count": 25,
   "id": "2cbec41c",
   "metadata": {},
   "outputs": [
    {
     "data": {
      "text/plain": [
       "8"
      ]
     },
     "execution_count": 25,
     "metadata": {},
     "output_type": "execute_result"
    }
   ],
   "source": [
    "a.count('e')"
   ]
  },
  {
   "cell_type": "code",
   "execution_count": 26,
   "id": "dcbece47",
   "metadata": {},
   "outputs": [
    {
     "data": {
      "text/plain": [
       "15"
      ]
     },
     "execution_count": 26,
     "metadata": {},
     "output_type": "execute_result"
    }
   ],
   "source": [
    "a.find('time') # count spaces"
   ]
  },
  {
   "cell_type": "code",
   "execution_count": 31,
   "id": "ade4c5e6",
   "metadata": {},
   "outputs": [
    {
     "data": {
      "text/plain": [
       "'h'"
      ]
     },
     "execution_count": 31,
     "metadata": {},
     "output_type": "execute_result"
    }
   ],
   "source": [
    "a[6]"
   ]
  },
  {
   "cell_type": "code",
   "execution_count": 28,
   "id": "74bdaf01",
   "metadata": {},
   "outputs": [
    {
     "data": {
      "text/plain": [
       "'anythinganytime anyone'"
      ]
     },
     "execution_count": 28,
     "metadata": {},
     "output_type": "execute_result"
    }
   ],
   "source": [
    "a.replace('every' ,'any')"
   ]
  },
  {
   "cell_type": "code",
   "execution_count": 29,
   "id": "b5c0acf4",
   "metadata": {},
   "outputs": [],
   "source": [
    "s = 'python\"'"
   ]
  },
  {
   "cell_type": "code",
   "execution_count": 1,
   "id": "48485b7b",
   "metadata": {},
   "outputs": [],
   "source": [
    "#s[start:end:step]"
   ]
  },
  {
   "cell_type": "code",
   "execution_count": 43,
   "id": "ab6a8988",
   "metadata": {},
   "outputs": [
    {
     "data": {
      "text/plain": [
       "'pto'"
      ]
     },
     "execution_count": 43,
     "metadata": {},
     "output_type": "execute_result"
    }
   ],
   "source": [
    "s[0:7:2]"
   ]
  },
  {
   "cell_type": "code",
   "execution_count": 12,
   "id": "9e836e81",
   "metadata": {},
   "outputs": [
    {
     "data": {
      "text/plain": [
       "'python'"
      ]
     },
     "execution_count": 12,
     "metadata": {},
     "output_type": "execute_result"
    }
   ],
   "source": [
    "s[0:7]"
   ]
  },
  {
   "cell_type": "code",
   "execution_count": 40,
   "id": "0b87ae7f",
   "metadata": {},
   "outputs": [
    {
     "data": {
      "text/plain": [
       "'nohtyp'"
      ]
     },
     "execution_count": 40,
     "metadata": {},
     "output_type": "execute_result"
    }
   ],
   "source": [
    "s[-1:-7:-1]"
   ]
  },
  {
   "cell_type": "code",
   "execution_count": 46,
   "id": "4de296aa",
   "metadata": {},
   "outputs": [
    {
     "data": {
      "text/plain": [
       "'nhy'"
      ]
     },
     "execution_count": 46,
     "metadata": {},
     "output_type": "execute_result"
    }
   ],
   "source": [
    "s[-1:-7:-2]"
   ]
  },
  {
   "cell_type": "code",
   "execution_count": 47,
   "id": "5139e1da",
   "metadata": {},
   "outputs": [],
   "source": [
    "s = 'PyTHon Is Easy'"
   ]
  },
  {
   "cell_type": "code",
   "execution_count": 49,
   "id": "4f5ff8d4",
   "metadata": {},
   "outputs": [
    {
     "data": {
      "text/plain": [
       "'PYTHON IS EASY'"
      ]
     },
     "execution_count": 49,
     "metadata": {},
     "output_type": "execute_result"
    }
   ],
   "source": [
    "s.upper()"
   ]
  },
  {
   "cell_type": "code",
   "execution_count": 50,
   "id": "7bec2b51",
   "metadata": {},
   "outputs": [
    {
     "data": {
      "text/plain": [
       "'python is easy'"
      ]
     },
     "execution_count": 50,
     "metadata": {},
     "output_type": "execute_result"
    }
   ],
   "source": [
    "s.lower()"
   ]
  },
  {
   "cell_type": "code",
   "execution_count": 51,
   "id": "0d808680",
   "metadata": {},
   "outputs": [
    {
     "data": {
      "text/plain": [
       "'pYthON iS eASY'"
      ]
     },
     "execution_count": 51,
     "metadata": {},
     "output_type": "execute_result"
    }
   ],
   "source": [
    "s.swapcase()"
   ]
  },
  {
   "cell_type": "code",
   "execution_count": 52,
   "id": "ae944c28",
   "metadata": {},
   "outputs": [
    {
     "data": {
      "text/plain": [
       "'Python Is Easy'"
      ]
     },
     "execution_count": 52,
     "metadata": {},
     "output_type": "execute_result"
    }
   ],
   "source": [
    "s.title()"
   ]
  },
  {
   "cell_type": "code",
   "execution_count": 53,
   "id": "70332249",
   "metadata": {},
   "outputs": [
    {
     "data": {
      "text/plain": [
       "'Python is easy'"
      ]
     },
     "execution_count": 53,
     "metadata": {},
     "output_type": "execute_result"
    }
   ],
   "source": [
    "s.capitalize()"
   ]
  },
  {
   "cell_type": "code",
   "execution_count": 54,
   "id": "e68d2060",
   "metadata": {},
   "outputs": [],
   "source": [
    "s = ('python', 'c','c++','java')"
   ]
  },
  {
   "cell_type": "code",
   "execution_count": 56,
   "id": "1f933128",
   "metadata": {},
   "outputs": [],
   "source": [
    "symbol = '*'.join(s)"
   ]
  },
  {
   "cell_type": "code",
   "execution_count": 57,
   "id": "5780c489",
   "metadata": {},
   "outputs": [
    {
     "data": {
      "text/plain": [
       "'python*c*c++*java'"
      ]
     },
     "execution_count": 57,
     "metadata": {},
     "output_type": "execute_result"
    }
   ],
   "source": [
    "symbol"
   ]
  },
  {
   "cell_type": "code",
   "execution_count": 58,
   "id": "87ba98a6",
   "metadata": {},
   "outputs": [],
   "source": [
    "s = 'python'"
   ]
  },
  {
   "cell_type": "code",
   "execution_count": 66,
   "id": "c68f3736",
   "metadata": {},
   "outputs": [
    {
     "data": {
      "text/plain": [
       "'##python##'"
      ]
     },
     "execution_count": 66,
     "metadata": {},
     "output_type": "execute_result"
    }
   ],
   "source": [
    "s.center(10,\"#\")"
   ]
  },
  {
   "cell_type": "code",
   "execution_count": 67,
   "id": "d0d37eb7",
   "metadata": {},
   "outputs": [
    {
     "data": {
      "text/plain": [
       "True"
      ]
     },
     "execution_count": 67,
     "metadata": {},
     "output_type": "execute_result"
    }
   ],
   "source": [
    "s.isalnum()"
   ]
  },
  {
   "cell_type": "code",
   "execution_count": 68,
   "id": "70c1878b",
   "metadata": {},
   "outputs": [
    {
     "data": {
      "text/plain": [
       "False"
      ]
     },
     "execution_count": 68,
     "metadata": {},
     "output_type": "execute_result"
    }
   ],
   "source": [
    "s.startswith('th')"
   ]
  },
  {
   "cell_type": "code",
   "execution_count": 69,
   "id": "6283167a",
   "metadata": {},
   "outputs": [
    {
     "data": {
      "text/plain": [
       "True"
      ]
     },
     "execution_count": 69,
     "metadata": {},
     "output_type": "execute_result"
    }
   ],
   "source": [
    "s.startswith('py')"
   ]
  },
  {
   "cell_type": "code",
   "execution_count": 70,
   "id": "9577f414",
   "metadata": {},
   "outputs": [
    {
     "data": {
      "text/plain": [
       "True"
      ]
     },
     "execution_count": 70,
     "metadata": {},
     "output_type": "execute_result"
    }
   ],
   "source": [
    "s.endswith('on')"
   ]
  },
  {
   "cell_type": "code",
   "execution_count": 71,
   "id": "043a9fe7",
   "metadata": {},
   "outputs": [
    {
     "data": {
      "text/plain": [
       "True"
      ]
     },
     "execution_count": 71,
     "metadata": {},
     "output_type": "execute_result"
    }
   ],
   "source": [
    "s.islower()"
   ]
  },
  {
   "cell_type": "code",
   "execution_count": 72,
   "id": "064f7e7e",
   "metadata": {},
   "outputs": [
    {
     "data": {
      "text/plain": [
       "False"
      ]
     },
     "execution_count": 72,
     "metadata": {},
     "output_type": "execute_result"
    }
   ],
   "source": [
    "s.isupper()"
   ]
  },
  {
   "cell_type": "code",
   "execution_count": 73,
   "id": "f8b31ac4",
   "metadata": {},
   "outputs": [
    {
     "data": {
      "text/plain": [
       "False"
      ]
     },
     "execution_count": 73,
     "metadata": {},
     "output_type": "execute_result"
    }
   ],
   "source": [
    "s.istitle()"
   ]
  },
  {
   "cell_type": "code",
   "execution_count": 75,
   "id": "24b1e60d",
   "metadata": {},
   "outputs": [
    {
     "data": {
      "text/plain": [
       "False"
      ]
     },
     "execution_count": 75,
     "metadata": {},
     "output_type": "execute_result"
    }
   ],
   "source": [
    "s.isnumeric()"
   ]
  },
  {
   "cell_type": "code",
   "execution_count": null,
   "id": "7e65cbc8",
   "metadata": {},
   "outputs": [],
   "source": []
  }
 ],
 "metadata": {
  "kernelspec": {
   "display_name": "Python 3 (ipykernel)",
   "language": "python",
   "name": "python3"
  },
  "language_info": {
   "codemirror_mode": {
    "name": "ipython",
    "version": 3
   },
   "file_extension": ".py",
   "mimetype": "text/x-python",
   "name": "python",
   "nbconvert_exporter": "python",
   "pygments_lexer": "ipython3",
   "version": "3.9.13"
  }
 },
 "nbformat": 4,
 "nbformat_minor": 5
}
