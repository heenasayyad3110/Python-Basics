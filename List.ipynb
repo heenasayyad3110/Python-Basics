{
 "cells": [
  {
   "cell_type": "code",
   "execution_count": null,
   "id": "bfc041c4",
   "metadata": {},
   "outputs": [],
   "source": [
    "Python lists are containers to store a set of values\n",
    "of any data type\n",
    "a list can store differnt type of elements which can be \n",
    "modified. lists are dynamic which means size is not fixed.\n",
    "lists are using square brackets.\n",
    "\n",
    "l = [10,20,2.5,'xyz']\n",
    "\n",
    "List indexing\n",
    "A list can be indexed just like a string\n",
    "    "
   ]
  },
  {
   "cell_type": "markdown",
   "id": "a76a1648",
   "metadata": {},
   "source": [
    "# List Methods"
   ]
  },
  {
   "cell_type": "code",
   "execution_count": 1,
   "id": "97321b68",
   "metadata": {},
   "outputs": [],
   "source": [
    "l = [10,20,30,8,5.2,45,6.8]"
   ]
  },
  {
   "cell_type": "code",
   "execution_count": 2,
   "id": "3caf7062",
   "metadata": {},
   "outputs": [],
   "source": [
    "l.sort() #sort in ascending order"
   ]
  },
  {
   "cell_type": "code",
   "execution_count": 3,
   "id": "8e74103a",
   "metadata": {},
   "outputs": [
    {
     "data": {
      "text/plain": [
       "[5.2, 6.8, 8, 10, 20, 30, 45]"
      ]
     },
     "execution_count": 3,
     "metadata": {},
     "output_type": "execute_result"
    }
   ],
   "source": [
    "l"
   ]
  },
  {
   "cell_type": "code",
   "execution_count": 4,
   "id": "af2ef93e",
   "metadata": {},
   "outputs": [],
   "source": [
    "l.reverse() "
   ]
  },
  {
   "cell_type": "code",
   "execution_count": 5,
   "id": "510c6ead",
   "metadata": {},
   "outputs": [
    {
     "data": {
      "text/plain": [
       "[45, 30, 20, 10, 8, 6.8, 5.2]"
      ]
     },
     "execution_count": 5,
     "metadata": {},
     "output_type": "execute_result"
    }
   ],
   "source": [
    "l"
   ]
  },
  {
   "cell_type": "code",
   "execution_count": 6,
   "id": "427db534",
   "metadata": {},
   "outputs": [],
   "source": [
    "l.append(50) # adds 50 at the end of the list"
   ]
  },
  {
   "cell_type": "code",
   "execution_count": 7,
   "id": "ecc18f34",
   "metadata": {},
   "outputs": [
    {
     "data": {
      "text/plain": [
       "[45, 30, 20, 10, 8, 6.8, 5.2, 50]"
      ]
     },
     "execution_count": 7,
     "metadata": {},
     "output_type": "execute_result"
    }
   ],
   "source": [
    "l"
   ]
  },
  {
   "cell_type": "code",
   "execution_count": 8,
   "id": "6340b200",
   "metadata": {},
   "outputs": [],
   "source": [
    "l.insert(2,15) #this will add 15 at 2 index"
   ]
  },
  {
   "cell_type": "code",
   "execution_count": 9,
   "id": "6c83a3b6",
   "metadata": {},
   "outputs": [
    {
     "data": {
      "text/plain": [
       "[45, 30, 15, 20, 10, 8, 6.8, 5.2, 50]"
      ]
     },
     "execution_count": 9,
     "metadata": {},
     "output_type": "execute_result"
    }
   ],
   "source": [
    "l"
   ]
  },
  {
   "cell_type": "code",
   "execution_count": 10,
   "id": "fc06cf10",
   "metadata": {},
   "outputs": [
    {
     "data": {
      "text/plain": [
       "50"
      ]
     },
     "execution_count": 10,
     "metadata": {},
     "output_type": "execute_result"
    }
   ],
   "source": [
    "l. pop()"
   ]
  },
  {
   "cell_type": "code",
   "execution_count": 11,
   "id": "4266306c",
   "metadata": {},
   "outputs": [
    {
     "data": {
      "text/plain": [
       "15"
      ]
     },
     "execution_count": 11,
     "metadata": {},
     "output_type": "execute_result"
    }
   ],
   "source": [
    "l. pop(2) #will delete element at index 2 and returns \n",
    "          #its value"
   ]
  },
  {
   "cell_type": "code",
   "execution_count": 12,
   "id": "2c893ca8",
   "metadata": {},
   "outputs": [],
   "source": [
    "l.remove(8)"
   ]
  },
  {
   "cell_type": "code",
   "execution_count": 13,
   "id": "565310bd",
   "metadata": {},
   "outputs": [
    {
     "data": {
      "text/plain": [
       "[45, 30, 20, 10, 6.8, 5.2]"
      ]
     },
     "execution_count": 13,
     "metadata": {},
     "output_type": "execute_result"
    }
   ],
   "source": [
    "l"
   ]
  },
  {
   "cell_type": "code",
   "execution_count": 14,
   "id": "7de95e0c",
   "metadata": {},
   "outputs": [
    {
     "data": {
      "text/plain": [
       "[45, 30, 20, 10, 6.8, 5.2]"
      ]
     },
     "execution_count": 14,
     "metadata": {},
     "output_type": "execute_result"
    }
   ],
   "source": [
    "l.copy()"
   ]
  },
  {
   "cell_type": "code",
   "execution_count": 16,
   "id": "8406e851",
   "metadata": {},
   "outputs": [
    {
     "data": {
      "text/plain": [
       "1"
      ]
     },
     "execution_count": 16,
     "metadata": {},
     "output_type": "execute_result"
    }
   ],
   "source": [
    "l.count(20)"
   ]
  },
  {
   "cell_type": "code",
   "execution_count": 19,
   "id": "0589a4fe",
   "metadata": {},
   "outputs": [],
   "source": [
    "l.clear()"
   ]
  },
  {
   "cell_type": "code",
   "execution_count": 20,
   "id": "3e8c035c",
   "metadata": {},
   "outputs": [
    {
     "data": {
      "text/plain": [
       "[]"
      ]
     },
     "execution_count": 20,
     "metadata": {},
     "output_type": "execute_result"
    }
   ],
   "source": [
    "l"
   ]
  },
  {
   "cell_type": "code",
   "execution_count": null,
   "id": "a841fca4",
   "metadata": {},
   "outputs": [],
   "source": [
    "etc."
   ]
  }
 ],
 "metadata": {
  "kernelspec": {
   "display_name": "Python 3 (ipykernel)",
   "language": "python",
   "name": "python3"
  },
  "language_info": {
   "codemirror_mode": {
    "name": "ipython",
    "version": 3
   },
   "file_extension": ".py",
   "mimetype": "text/x-python",
   "name": "python",
   "nbconvert_exporter": "python",
   "pygments_lexer": "ipython3",
   "version": "3.9.13"
  }
 },
 "nbformat": 4,
 "nbformat_minor": 5
}
