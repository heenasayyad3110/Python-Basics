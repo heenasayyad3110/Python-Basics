{
 "cells": [
  {
   "cell_type": "markdown",
   "id": "84331530",
   "metadata": {},
   "source": [
    "# If-Else Statements"
   ]
  },
  {
   "cell_type": "raw",
   "id": "de459ca9",
   "metadata": {},
   "source": [
    "A branching staement, If-Else Statement, or If-Statement \n",
    "for short, is a code construct that executes blocks of\n",
    "code only if certain conditions are met. These conditions\n",
    "are represented as logical expressions."
   ]
  },
  {
   "cell_type": "raw",
   "id": "69f1f0a1",
   "metadata": {},
   "source": [
    " Syntax:\n",
    "        \n",
    "        if condition:\n",
    "            execution\n",
    "    "
   ]
  },
  {
   "cell_type": "code",
   "execution_count": 2,
   "id": "dd37ab19",
   "metadata": {},
   "outputs": [],
   "source": [
    "a = 0\n",
    "if a > 0:\n",
    "    print(\"a is a positive number\")"
   ]
  },
  {
   "cell_type": "code",
   "execution_count": 3,
   "id": "0495db30",
   "metadata": {},
   "outputs": [
    {
     "name": "stdout",
     "output_type": "stream",
     "text": [
      "a is a zero number\n"
     ]
    }
   ],
   "source": [
    "a = 0\n",
    "\n",
    "if a > 0:\n",
    "    print(\"a is a positive number\")\n",
    "elif a == 0:\n",
    "    print(\"a is a zero number\")\n",
    "else:\n",
    "    print(\"a is a negative number\")"
   ]
  },
  {
   "cell_type": "code",
   "execution_count": 4,
   "id": "33b68953",
   "metadata": {},
   "outputs": [
    {
     "name": "stdout",
     "output_type": "stream",
     "text": [
      "a is a negative number\n"
     ]
    }
   ],
   "source": [
    "a = 10\n",
    "\n",
    "if a > 30:\n",
    "    print(\"a is a positive number\")\n",
    "elif a == 30:\n",
    "    print(\"a is a negative number\")\n",
    "else:\n",
    "    print(\"a is a negative number\")"
   ]
  },
  {
   "cell_type": "code",
   "execution_count": 4,
   "id": "a37b5f6e",
   "metadata": {},
   "outputs": [
    {
     "name": "stdout",
     "output_type": "stream",
     "text": [
      "a is an odd number\n"
     ]
    }
   ],
   "source": [
    "a = 51\n",
    "\n",
    "if a % 2 == 0:\n",
    "    print(\"a is even number\")\n",
    "else:\n",
    "    print(\"a is an odd number\")"
   ]
  },
  {
   "cell_type": "code",
   "execution_count": 8,
   "id": "20b21a71",
   "metadata": {},
   "outputs": [
    {
     "name": "stdout",
     "output_type": "stream",
     "text": [
      "a is even number\n"
     ]
    }
   ],
   "source": [
    "a = 23\n",
    "\n",
    "if a %2 != 0:\n",
    "    print(\"a is even number\")\n",
    "else:\n",
    "    print(\"a is an odd number\")"
   ]
  },
  {
   "cell_type": "code",
   "execution_count": 9,
   "id": "c824d084",
   "metadata": {},
   "outputs": [
    {
     "name": "stdout",
     "output_type": "stream",
     "text": [
      "a is equal to b\n"
     ]
    }
   ],
   "source": [
    "a = 50\n",
    "b = 50\n",
    "if a > b:\n",
    "    print(\"a is greater than b\")\n",
    "elif a < b:\n",
    "    print(\"a is less than b\")\n",
    "else:\n",
    "    print(\"a is equal to b\")"
   ]
  },
  {
   "cell_type": "code",
   "execution_count": 28,
   "id": "87eac1b4",
   "metadata": {},
   "outputs": [
    {
     "name": "stdout",
     "output_type": "stream",
     "text": [
      "a is greater than 10\n",
      "a is greater than 20\n",
      "a is greater than 20 but less than 30\n"
     ]
    }
   ],
   "source": [
    "a = 25\n",
    "if a > 10:\n",
    "    print(\"a is greater than 10\")\n",
    "    if a > 20:\n",
    "        print(\"a is greater than 20\")\n",
    "        if a > 30:\n",
    "            print(\"a is greater than 30\")\n",
    "        else:\n",
    "            print(\"a is greater than 20 but less than 30\")\n",
    "    else:\n",
    "        print(\"a is greater than 10 but less than 20\")\n",
    "else:\n",
    "    print(\"a is less than 10\")"
   ]
  },
  {
   "cell_type": "code",
   "execution_count": 29,
   "id": "3e66697a",
   "metadata": {},
   "outputs": [
    {
     "name": "stdout",
     "output_type": "stream",
     "text": [
      "Enter your marks :71\n",
      "B\n"
     ]
    }
   ],
   "source": [
    "marks = int(input(\"Enter your marks :\"))\n",
    "if marks >= 75:\n",
    "    print(\"A\")\n",
    "elif marks < 75 and marks >= 60:\n",
    "    print(\"B\")\n",
    "elif marks < 60 and marks >=40:\n",
    "    print(\"C\")\n",
    "else:\n",
    "    print(\"Fail\")"
   ]
  },
  {
   "cell_type": "code",
   "execution_count": 30,
   "id": "e29297e7",
   "metadata": {},
   "outputs": [
    {
     "name": "stdout",
     "output_type": "stream",
     "text": [
      "A\n"
     ]
    }
   ],
   "source": [
    "marks = 80\n",
    "if marks >= 75:\n",
    "    print(\"A\")\n",
    "elif marks < 75 and marks >=60:\n",
    "    print(\"B\")\n",
    "elif marks >60 and marks >=40:\n",
    "    print(\"C\")\n",
    "else:\n",
    "    print(\"Fail\")\n",
    "     "
   ]
  },
  {
   "cell_type": "code",
   "execution_count": 3,
   "id": "aa379a72",
   "metadata": {},
   "outputs": [
    {
     "name": "stdout",
     "output_type": "stream",
     "text": [
      "Enter a username : Abc\n",
      "log in\n"
     ]
    }
   ],
   "source": [
    "username = input(\"Enter a username : \")\n",
    "\n",
    "if username == \"Abc\" or username == \"abc\":\n",
    "    print(\"log in\")\n",
    "else:\n",
    "    print(\"username is invalid\")\n"
   ]
  },
  {
   "cell_type": "code",
   "execution_count": 4,
   "id": "99184cea",
   "metadata": {},
   "outputs": [
    {
     "name": "stdout",
     "output_type": "stream",
     "text": [
      "Enter a username : ABC\n",
      "username is invalid\n"
     ]
    }
   ],
   "source": [
    "username = input(\"Enter a username : \")\n",
    "\n",
    "if username == \"abc\" or username == \"Abc\":\n",
    "    print(\"log in\")\n",
    "else:\n",
    "    print(\"username is invalid\")\n"
   ]
  },
  {
   "cell_type": "code",
   "execution_count": 36,
   "id": "f06e5675",
   "metadata": {},
   "outputs": [
    {
     "name": "stdout",
     "output_type": "stream",
     "text": [
      "Enter a username : Zoya3110\n",
      "Enter a password : 5641237891\n",
      "log in successfully\n"
     ]
    }
   ],
   "source": [
    "username = input(\"Enter a username : \")\n",
    "password = int(input(\"Enter a password : \"))\n",
    "\n",
    "if username == \"zoya3110\" or username == \"Zoya3110\":\n",
    "    print(\"log in successfully\")\n",
    "elif password == \"1234567891\" or password == \"9876543219\":\n",
    "    print(\"password is correct\")\n",
    "else:\n",
    "    print(\"invalid username or password\")"
   ]
  },
  {
   "cell_type": "code",
   "execution_count": 37,
   "id": "c4299729",
   "metadata": {},
   "outputs": [
    {
     "name": "stdout",
     "output_type": "stream",
     "text": [
      "Enter a username : ZOYA3110\n",
      "Enter a password : 2365417896\n",
      "invalid username or password\n"
     ]
    }
   ],
   "source": [
    "username = input(\"Enter a username : \")\n",
    "password = int(input(\"Enter a password : \"))\n",
    "\n",
    "if username == \"zoya3110\" or username == \"Zoya3110\":\n",
    "    print(\"log in successfully\")\n",
    "elif password == \"1234567891\" or password == \"9876543219\":\n",
    "    print(\"password is correct\")\n",
    "else:\n",
    "    print(\"invalid username or password\")"
   ]
  },
  {
   "cell_type": "code",
   "execution_count": 38,
   "id": "d126349e",
   "metadata": {},
   "outputs": [
    {
     "name": "stdout",
     "output_type": "stream",
     "text": [
      "Enter a username : ZOYA3110\n",
      "Enter a password : 1234567891\n",
      "invalid username or password\n"
     ]
    }
   ],
   "source": [
    "username = input(\"Enter a username : \")\n",
    "password = int(input(\"Enter a password : \"))\n",
    "\n",
    "if username == \"zoya3110\" or username == \"Zoya3110\":\n",
    "    print(\"log in successfully\")\n",
    "elif password == \"1234567891\" or password == \"9876543219\":\n",
    "    print(\"password is correct\")\n",
    "else:\n",
    "    print(\"invalid username or password\") \n"
   ]
  },
  {
   "cell_type": "code",
   "execution_count": 1,
   "id": "16ab2422",
   "metadata": {},
   "outputs": [
    {
     "name": "stdout",
     "output_type": "stream",
     "text": [
      "Enter your username : zoya3110\n",
      "Enter your password : 1234567891\n",
      "log in successfully\n"
     ]
    }
   ],
   "source": [
    "username = input(\"Enter your username : \")\n",
    "password = int(input(\"Enter your password : \"))\n",
    "\n",
    "if username == \"zoya3110\" or username == \"Zoya3110\" and password == 1234567891:\n",
    "    print(\"log in successfully\")\n",
    "else:\n",
    "    print(\"invalid username or password\") \n"
   ]
  },
  {
   "cell_type": "code",
   "execution_count": 2,
   "id": "c0fb24d0",
   "metadata": {},
   "outputs": [
    {
     "name": "stdout",
     "output_type": "stream",
     "text": [
      "Enter your username : zoya33110\n",
      "Enter your password : 156324568\n",
      "invalid username or password\n"
     ]
    }
   ],
   "source": [
    "username = input(\"Enter your username : \")\n",
    "password = int(input(\"Enter your password : \"))\n",
    "\n",
    "if username == \"zoya3110\" or username == \"Zoya3110\" and password == 1234567891:\n",
    "    print(\"log in successfully\")\n",
    "else:\n",
    "    print(\"invalid username or password\") \n"
   ]
  },
  {
   "cell_type": "code",
   "execution_count": 2,
   "id": "2e843ac7",
   "metadata": {},
   "outputs": [
    {
     "name": "stdout",
     "output_type": "stream",
     "text": [
      "Enter a username : xyz\n",
      "Enter a password :1234567891\n",
      "Enter a email id : Abc\n",
      "username is correct\n"
     ]
    }
   ],
   "source": [
    "username = input(\"Enter a username : \")\n",
    "password = int(input(\"Enter a password :\"))\n",
    "emailid  = input(\"Enter a email id : \")\n",
    "\n",
    "if username == \"xyz\" or username == \"xyz\":\n",
    "    print(\"username is correct\")\n",
    "elif password == \"1234567891\" or password == \"9876543219\":\n",
    "    print(\"password is correct\")\n",
    "elif emailid == \"abc\" or emailid == \"Abc\":\n",
    "    print(\"email id is correct\")\n",
    "else:\n",
    "    print(\"Invalid log in\")\n"
   ]
  },
  {
   "cell_type": "code",
   "execution_count": 1,
   "id": "1bbcdc7b",
   "metadata": {},
   "outputs": [
    {
     "name": "stdout",
     "output_type": "stream",
     "text": [
      "Enter a username : xyz\n",
      "Enter a password :123456789\n",
      "Enter a email id : ABC\n",
      "username is correct\n"
     ]
    }
   ],
   "source": [
    "username = input(\"Enter a username : \")\n",
    "password = int(input(\"Enter a password :\"))\n",
    "emailid  = input(\"Enter a email id : \")\n",
    "\n",
    "if username == \"xyz\" or username == \"xyz\":\n",
    "    print(\"username is correct\")\n",
    "elif password == \"1234567891\" or password == \"9876543219\":\n",
    "    print(\"password is correct\")\n",
    "elif emailid == \"abc\" or emailid == \"Abc\":\n",
    "    print(\"email id is correct\")\n",
    "else:\n",
    "    print(\"Invalid log in\")"
   ]
  },
  {
   "cell_type": "code",
   "execution_count": null,
   "id": "05bc6efe",
   "metadata": {},
   "outputs": [],
   "source": []
  }
 ],
 "metadata": {
  "kernelspec": {
   "display_name": "Python 3 (ipykernel)",
   "language": "python",
   "name": "python3"
  },
  "language_info": {
   "codemirror_mode": {
    "name": "ipython",
    "version": 3
   },
   "file_extension": ".py",
   "mimetype": "text/x-python",
   "name": "python",
   "nbconvert_exporter": "python",
   "pygments_lexer": "ipython3",
   "version": "3.9.13"
  }
 },
 "nbformat": 4,
 "nbformat_minor": 5
}
