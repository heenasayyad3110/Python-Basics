{
 "cells": [
  {
   "cell_type": "markdown",
   "id": "82c43f3e",
   "metadata": {},
   "source": [
    "# Dictionary Data Type"
   ]
  },
  {
   "cell_type": "raw",
   "id": "45b74cac",
   "metadata": {},
   "source": [
    "A map/dict represents a group of element in the form of\n",
    "key:value pairs.\n",
    "mutable but keys are not duplicated\n",
    "It is unordered\n",
    "It is indexed"
   ]
  },
  {
   "cell_type": "raw",
   "id": "61bac672",
   "metadata": {},
   "source": [
    "Syntax:\n",
    "       {\"key\"   : \"value\"\n",
    "        \"name\"  : \"abc\"\n",
    "        \"mo.no.\": \"12345\"\n",
    "        \"list\"  : [1,5,3]} "
   ]
  },
  {
   "cell_type": "raw",
   "id": "b5107b52",
   "metadata": {},
   "source": [
    "Dictionary Functions"
   ]
  },
  {
   "cell_type": "code",
   "execution_count": 29,
   "id": "424ab34b",
   "metadata": {},
   "outputs": [
    {
     "name": "stdout",
     "output_type": "stream",
     "text": [
      "dictionary1 :  {'a': 54, 'b': 87, 'c': 61}\n",
      "dictionary2 :  {'a': 54, 'b': 87, 'c': 61}\n"
     ]
    }
   ],
   "source": [
    "dic1 = {'a': 54, 'b': 87,'c': 61}\n",
    "dic2 = dic1.copy()\n",
    "\n",
    "print(\"dictionary1 : \" , dic1)\n",
    "print(\"dictionary2 : \" , dic2)"
   ]
  },
  {
   "cell_type": "code",
   "execution_count": 4,
   "id": "17d5d0de",
   "metadata": {},
   "outputs": [],
   "source": [
    "dic2 = dic1.copy()"
   ]
  },
  {
   "cell_type": "code",
   "execution_count": 6,
   "id": "803b4dfa",
   "metadata": {},
   "outputs": [
    {
     "data": {
      "text/plain": [
       "{'a': 54, 'b': 87, 'c': 61}"
      ]
     },
     "execution_count": 6,
     "metadata": {},
     "output_type": "execute_result"
    }
   ],
   "source": [
    "dic2"
   ]
  },
  {
   "cell_type": "code",
   "execution_count": 8,
   "id": "5a85e5bc",
   "metadata": {},
   "outputs": [
    {
     "name": "stdout",
     "output_type": "stream",
     "text": [
      "87\n"
     ]
    }
   ],
   "source": [
    "dictionary = {'a': 54, 'b': 87, 'c': 61}\n",
    "value = dictionary.get('b')\n",
    "print(value)"
   ]
  },
  {
   "cell_type": "code",
   "execution_count": 9,
   "id": "469c51c9",
   "metadata": {},
   "outputs": [
    {
     "name": "stdout",
     "output_type": "stream",
     "text": [
      "0\n"
     ]
    }
   ],
   "source": [
    "dictionary = {'a': 54, 'b': 87, 'c': 61}\n",
    "value = dictionary.get('f', 0)\n",
    "print(value)"
   ]
  },
  {
   "cell_type": "code",
   "execution_count": 13,
   "id": "bd94697f",
   "metadata": {},
   "outputs": [
    {
     "name": "stdout",
     "output_type": "stream",
     "text": [
      "dict_items([('a', 54), ('b', 87), ('c', 61)])\n",
      "a - 54\n",
      "b - 87\n",
      "c - 61\n"
     ]
    }
   ],
   "source": [
    "dictionary = {'a': 54, 'b': 87, 'c': 61}\n",
    "print(dictionary.items())\n",
    "\n",
    "for key, value in dictionary.items():\n",
    "    print(key, '-', value)"
   ]
  },
  {
   "cell_type": "code",
   "execution_count": 14,
   "id": "f63f1dca",
   "metadata": {},
   "outputs": [
    {
     "name": "stdout",
     "output_type": "stream",
     "text": [
      "dict_keys(['a', 'b', 'c'])\n",
      "a\n",
      "b\n",
      "c\n"
     ]
    }
   ],
   "source": [
    "dictionary = {'a': 54, 'b': 87, 'c': 61}\n",
    "print(dictionary.keys())\n",
    "\n",
    "for key in dictionary.keys():\n",
    "    print(key)\n"
   ]
  },
  {
   "cell_type": "code",
   "execution_count": 15,
   "id": "67c97b08",
   "metadata": {},
   "outputs": [
    {
     "name": "stdout",
     "output_type": "stream",
     "text": [
      "dict_values([54, 87, 61])\n",
      "54\n",
      "87\n",
      "61\n"
     ]
    }
   ],
   "source": [
    "dictionary = {'a': 54, 'b': 87, 'c': 61}\n",
    "print(dictionary.values())\n",
    "\n",
    "for value in dictionary.values():\n",
    "    print(value)\n"
   ]
  },
  {
   "cell_type": "code",
   "execution_count": 16,
   "id": "d31871dd",
   "metadata": {},
   "outputs": [
    {
     "name": "stdout",
     "output_type": "stream",
     "text": [
      "{'a': 0, 'b': 0, 'c': 0}\n"
     ]
    }
   ],
   "source": [
    "dictionary = dict.fromkeys(['a', 'b', 'c'], 0)\n",
    "print(dictionary)"
   ]
  },
  {
   "cell_type": "code",
   "execution_count": 17,
   "id": "ae0c74f2",
   "metadata": {},
   "outputs": [
    {
     "name": "stdout",
     "output_type": "stream",
     "text": [
      "{'a': None, 'b': None, 'c': None}\n"
     ]
    }
   ],
   "source": [
    "dictionary = dict.fromkeys(['a', 'b', 'c'])\n",
    "print(dictionary)"
   ]
  },
  {
   "cell_type": "code",
   "execution_count": 18,
   "id": "886327ac",
   "metadata": {},
   "outputs": [
    {
     "name": "stdout",
     "output_type": "stream",
     "text": [
      "87\n"
     ]
    }
   ],
   "source": [
    "dictionary = {'a': 54, 'b': 87, 'c': 61}\n",
    "value = dictionary.pop('b')\n",
    "print(value)"
   ]
  },
  {
   "cell_type": "code",
   "execution_count": 22,
   "id": "a7fad5c1",
   "metadata": {},
   "outputs": [
    {
     "data": {
      "text/plain": [
       "('c', 61)"
      ]
     },
     "execution_count": 22,
     "metadata": {},
     "output_type": "execute_result"
    }
   ],
   "source": [
    "dictionary = {'a': 54, 'b': 87, 'c': 61}\n",
    "dictionary.popitem()"
   ]
  },
  {
   "cell_type": "code",
   "execution_count": 24,
   "id": "3dab66c1",
   "metadata": {},
   "outputs": [
    {
     "name": "stdout",
     "output_type": "stream",
     "text": [
      "('c', 61)\n",
      "('b', 87)\n",
      "('a', 54)\n"
     ]
    }
   ],
   "source": [
    "dictionary = {'a': 54, 'b': 87, 'c': 61}\n",
    "\n",
    "while dictionary:\n",
    "    print(dictionary.popitem())"
   ]
  },
  {
   "cell_type": "code",
   "execution_count": 27,
   "id": "571cc89f",
   "metadata": {},
   "outputs": [
    {
     "name": "stdout",
     "output_type": "stream",
     "text": [
      "0\n",
      "{'a': 54, 'b': 87, 'c': 61, 'f': 0}\n"
     ]
    }
   ],
   "source": [
    "dictionary = {'a': 54, 'b': 87, 'c': 61}\n",
    "value = dictionary.setdefault('f', 0)\n",
    "print(value)\n",
    "print(dictionary)"
   ]
  },
  {
   "cell_type": "code",
   "execution_count": 28,
   "id": "be63714d",
   "metadata": {},
   "outputs": [
    {
     "name": "stdout",
     "output_type": "stream",
     "text": [
      "{'a': 77, 'b': 44, 'c': 61, 'p': 1}\n"
     ]
    }
   ],
   "source": [
    "dictionary1 = {'a': 54, 'b': 87, 'c': 61}\n",
    "dictionary2 = {'a': 77, 'b': 44, 'p': 1}\n",
    "dictionary1.update(dictionary2)\n",
    "print(dictionary1)"
   ]
  },
  {
   "cell_type": "code",
   "execution_count": null,
   "id": "5b831c06",
   "metadata": {},
   "outputs": [],
   "source": []
  }
 ],
 "metadata": {
  "kernelspec": {
   "display_name": "Python 3 (ipykernel)",
   "language": "python",
   "name": "python3"
  },
  "language_info": {
   "codemirror_mode": {
    "name": "ipython",
    "version": 3
   },
   "file_extension": ".py",
   "mimetype": "text/x-python",
   "name": "python",
   "nbconvert_exporter": "python",
   "pygments_lexer": "ipython3",
   "version": "3.9.13"
  }
 },
 "nbformat": 4,
 "nbformat_minor": 5
}
